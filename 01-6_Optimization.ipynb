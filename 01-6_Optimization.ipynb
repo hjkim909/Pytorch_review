{
 "cells": [
  {
   "cell_type": "code",
   "execution_count": 1,
   "id": "47f92845",
   "metadata": {},
   "outputs": [],
   "source": [
    "# epoch마다 모델은 출력을 추출하고, 출력과 정답 사이의 오류(loss)를 게산하고, 매개변수에 대한 loss의 도함수를 수집\n",
    "# 경사하강법으로 loss를 최적화(optimize)"
   ]
  },
  {
   "cell_type": "code",
   "execution_count": 2,
   "id": "433f03f4",
   "metadata": {},
   "outputs": [],
   "source": [
    "import torch\n",
    "from torch import nn\n",
    "from torch.utils.data import DataLoader\n",
    "from torchvision import datasets\n",
    "from torchvision.transforms import ToTensor\n",
    "\n",
    "training_data = datasets.FashionMNIST(\n",
    "    root=\"data\",\n",
    "    train=True,\n",
    "    download=True,\n",
    "    transform=ToTensor()\n",
    ")\n",
    "\n",
    "test_data = datasets.FashionMNIST(\n",
    "    root=\"data\",\n",
    "    train=False,\n",
    "    download=True,\n",
    "    transform=ToTensor()\n",
    ")\n",
    "\n",
    "train_dataloader = DataLoader(training_data, batch_size=64)\n",
    "test_dataloader = DataLoader(test_data, batch_size=64)\n",
    "\n",
    "class NeuralNetwork(nn.Module):\n",
    "    def __init__(self):\n",
    "        super(NeuralNetwork, self).__init__()\n",
    "        self.flatten = nn.Flatten()\n",
    "        self.linear_relu_stack = nn.Sequential(\n",
    "            nn.Linear(28*28, 512),\n",
    "            nn.ReLU(),\n",
    "            nn.Linear(512, 512),\n",
    "            nn.ReLU(),\n",
    "            nn.Linear(512, 10),\n",
    "        )\n",
    "\n",
    "    def forward(self, x):\n",
    "        x = self.flatten(x)\n",
    "        logits = self.linear_relu_stack(x)\n",
    "        return logits\n",
    "\n",
    "model = NeuralNetwork()"
   ]
  },
  {
   "cell_type": "code",
   "execution_count": 4,
   "id": "e68dc0ed",
   "metadata": {},
   "outputs": [],
   "source": [
    "# Hyperprameter는 모델 최적화 과정을 제어할 수 있는 조절 가능한 매개변수.\n",
    "# 서로 다른 하이퍼파라미터 값은 모델 학습과 수렴율에 영향을 미침\n",
    "\n",
    "learning_rate = 1e-3 # 각 배치/에폭에서 모델의 매개변수를 조절하는 비율\n",
    "batch_size = 64 # 매개변수가 갱신되기 전 신경망을 통해 전파된 데이터 샘플의 수\n",
    "epochs = 5 # 데이터셋을 반복하는 횟수"
   ]
  },
  {
   "cell_type": "code",
   "execution_count": 5,
   "id": "5cd34e10",
   "metadata": {},
   "outputs": [],
   "source": [
    "# 손실 함수(Loss fuction)는 획득한 결과와 실제 값 사이의 틀린 정도를 측정하며, 학습 중에 최소화 하려 함\n",
    "\n",
    "# 손실 함수를 초기화\n",
    "loss_fn = nn.CrossEntropyLoss()"
   ]
  },
  {
   "cell_type": "code",
   "execution_count": 6,
   "id": "4691ca82",
   "metadata": {},
   "outputs": [],
   "source": [
    "# 최적화는 각 학습 단계에서 모델의 오류를 줄이기 위해 매개변수를 조절하는 과정\n",
    "# 여기서는 SGD optimizer를 사용.\n",
    "# Pytorch에는 ADAM, RMSProp 등 다양한 옵티마이저를 지원\n",
    "optimizer = torch.optim.SGD(model.parameters(), lr=learning_rate)\n"
   ]
  },
  {
   "cell_type": "code",
   "execution_count": 7,
   "id": "d74ae1e1",
   "metadata": {},
   "outputs": [],
   "source": [
    "# 학습단계에서 최적화는 3단계로 이루어짐\n",
    "# optimizer.zero_grad()를 호출하여 모델 매개변수의 변화도를 재설정. 기본적으로 변화도는 더해지기(add up) 때문에 중복 계산을 막기 위해 반복할 때마다 명시적으로 0으로 설정.\n",
    "# loss.backwards()를 호출하여 예측 손실(prediction loss)을 역전파. PyTorch는 각 매개변수에 대한 손실의 변화도를 저장.\n",
    "# 변화도를 계산한 뒤에는 optimizer.step()을 호출하여 역전파 단계에서 수집된 변화도로 매개변수를 조정."
   ]
  },
  {
   "cell_type": "code",
   "execution_count": 9,
   "id": "05162cfe",
   "metadata": {},
   "outputs": [],
   "source": [
    "def train_loop(dataloader, model, loss_fn, optimizer):\n",
    "    size = len(dataloader.dataset)\n",
    "    for batch, (X, y) in enumerate(dataloader):\n",
    "        # 예측(prediction)과 손실(loss) 계산\n",
    "        pred = model(X)\n",
    "        loss = loss_fn(pred, y)\n",
    "\n",
    "        # 역전파\n",
    "        optimizer.zero_grad()\n",
    "        loss.backward()\n",
    "        optimizer.step()\n",
    "\n",
    "        if batch % 100 == 0:\n",
    "            loss, current = loss.item(), batch * len(X)\n",
    "            print(f\"loss: {loss:>7f}  [{current:>5d}/{size:>5d}]\")\n",
    "\n",
    "\n",
    "def test_loop(dataloader, model, loss_fn):\n",
    "    size = len(dataloader.dataset)\n",
    "    num_batches = len(dataloader)\n",
    "    test_loss, correct = 0, 0\n",
    "\n",
    "    with torch.no_grad():\n",
    "        for X, y in dataloader:\n",
    "            pred = model(X)\n",
    "            test_loss += loss_fn(pred, y).item()\n",
    "            correct += (pred.argmax(1) == y).type(torch.float).sum().item()\n",
    "\n",
    "    test_loss /= num_batches\n",
    "    correct /= size\n",
    "    print(f\"Test Error: \\n Accuracy: {(100*correct):>0.1f}%, Avg loss: {test_loss:>8f} \\n\")"
   ]
  },
  {
   "cell_type": "code",
   "execution_count": null,
   "id": "b1cd5b81",
   "metadata": {},
   "outputs": [
    {
     "name": "stdout",
     "output_type": "stream",
     "text": [
      "Epoch 1\n",
      "-------------------------------\n",
      "loss: 2.309657  [    0/60000]\n",
      "loss: 2.294359  [ 6400/60000]\n",
      "loss: 2.277466  [12800/60000]\n",
      "loss: 2.274231  [19200/60000]\n",
      "loss: 2.256566  [25600/60000]\n",
      "loss: 2.233011  [32000/60000]\n",
      "loss: 2.236488  [38400/60000]\n"
     ]
    }
   ],
   "source": [
    "loss_fn = nn.CrossEntropyLoss()\n",
    "optimizer = torch.optim.SGD(model.parameters(), lr=learning_rate)\n",
    "\n",
    "epochs = 10\n",
    "for t in range(epochs):\n",
    "    print(f\"Epoch {t+1}\\n-------------------------------\")\n",
    "    train_loop(train_dataloader, model, loss_fn, optimizer)\n",
    "    test_loop(test_dataloader, model, loss_fn)\n",
    "print(\"Done!\")"
   ]
  },
  {
   "cell_type": "code",
   "execution_count": null,
   "id": "1687261c",
   "metadata": {},
   "outputs": [],
   "source": []
  }
 ],
 "metadata": {
  "kernelspec": {
   "display_name": "Python 3 (ipykernel)",
   "language": "python",
   "name": "python3"
  },
  "language_info": {
   "codemirror_mode": {
    "name": "ipython",
    "version": 3
   },
   "file_extension": ".py",
   "mimetype": "text/x-python",
   "name": "python",
   "nbconvert_exporter": "python",
   "pygments_lexer": "ipython3",
   "version": "3.9.7"
  }
 },
 "nbformat": 4,
 "nbformat_minor": 5
}

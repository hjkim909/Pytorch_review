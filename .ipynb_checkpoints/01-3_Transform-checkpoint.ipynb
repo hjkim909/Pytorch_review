{
 "cells": [
  {
   "cell_type": "code",
   "execution_count": null,
   "id": "fb296203",
   "metadata": {},
   "outputs": [],
   "source": [
    "#변형(transform)은 최초 데이터를 학습에 적합하게 만드는 과정\n",
    "#transform: feature 변형\n",
    "#label: 정답 변형\n",
    "\n",
    "# MNIST의 feature는 이미지 형식이고, 정답은 정수.\n",
    "# 학습을 하려면 정규화딘 텐서 형태의 feature와 one-hot encoding된 label이 필요\n",
    "# 이러한 변경을 위해 ToTensor와 Lambda 사용"
   ]
  },
  {
   "cell_type": "code",
   "execution_count": 1,
   "id": "a41cf92e",
   "metadata": {},
   "outputs": [],
   "source": [
    "import torch\n",
    "from torchvision import datasets\n",
    "from torchvision.transforms import ToTensor, Lambda\n",
    "\n",
    "ds = datasets.FashionMNIST(\n",
    "    root=\"data\",\n",
    "    train=True,\n",
    "    download=True,\n",
    "    transform=ToTensor(),\n",
    "    target_transform=Lambda(lambda y: torch.zeros(10, dtype=torch.float).scatter_(0, torch.tensor(y), value=1))\n",
    ")"
   ]
  },
  {
   "cell_type": "code",
   "execution_count": 2,
   "id": "c6cfb0c6",
   "metadata": {},
   "outputs": [
    {
     "data": {
      "text/plain": [
       "Dataset FashionMNIST\n",
       "    Number of datapoints: 60000\n",
       "    Root location: data\n",
       "    Split: Train\n",
       "    StandardTransform\n",
       "Transform: ToTensor()\n",
       "Target transform: Lambda()"
      ]
     },
     "execution_count": 2,
     "metadata": {},
     "output_type": "execute_result"
    }
   ],
   "source": [
    "ds"
   ]
  },
  {
   "cell_type": "code",
   "execution_count": null,
   "id": "b6696e11",
   "metadata": {},
   "outputs": [],
   "source": []
  }
 ],
 "metadata": {
  "kernelspec": {
   "display_name": "Python 3 (ipykernel)",
   "language": "python",
   "name": "python3"
  },
  "language_info": {
   "codemirror_mode": {
    "name": "ipython",
    "version": 3
   },
   "file_extension": ".py",
   "mimetype": "text/x-python",
   "name": "python",
   "nbconvert_exporter": "python",
   "pygments_lexer": "ipython3",
   "version": "3.9.7"
  }
 },
 "nbformat": 4,
 "nbformat_minor": 5
}

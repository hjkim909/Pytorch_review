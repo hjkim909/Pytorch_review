{
 "cells": [
  {
   "cell_type": "code",
   "execution_count": 1,
   "id": "26e05253",
   "metadata": {},
   "outputs": [],
   "source": [
    "import os\n",
    "import torch\n",
    "from torch import nn\n",
    "from torch.utils.data import DataLoader\n",
    "from torchvision import datasets, transforms"
   ]
  },
  {
   "cell_type": "code",
   "execution_count": 2,
   "id": "ca74393e",
   "metadata": {},
   "outputs": [
    {
     "name": "stdout",
     "output_type": "stream",
     "text": [
      "Using cuda device\n"
     ]
    }
   ],
   "source": [
    "#GPU가 있으면 cuda 사용\n",
    "device = \"cuda\" if torch.cuda.is_available() else \"cpu\"\n",
    "print(f\"Using {device} device\")"
   ]
  },
  {
   "cell_type": "code",
   "execution_count": 3,
   "id": "a77d6ecf",
   "metadata": {},
   "outputs": [],
   "source": [
    "class NeuralNetwork(nn.Module):\n",
    "    def __init__(self):\n",
    "        super(NeuralNetwork, self).__init__()\n",
    "        self.flatten = nn.Flatten()\n",
    "        self.linear_relu_stack = nn.Sequential(\n",
    "            nn.Linear(28*28, 512),\n",
    "            nn.ReLU(),\n",
    "            nn.Linear(512, 512),\n",
    "            nn.ReLU(),\n",
    "            nn.Linear(512, 10),\n",
    "        )\n",
    "\n",
    "    def forward(self, x):\n",
    "        x = self.flatten(x)\n",
    "        logits = self.linear_relu_stack(x)\n",
    "        return logits"
   ]
  },
  {
   "cell_type": "code",
   "execution_count": 4,
   "id": "981b7ef9",
   "metadata": {},
   "outputs": [
    {
     "name": "stdout",
     "output_type": "stream",
     "text": [
      "NeuralNetwork(\n",
      "  (flatten): Flatten(start_dim=1, end_dim=-1)\n",
      "  (linear_relu_stack): Sequential(\n",
      "    (0): Linear(in_features=784, out_features=512, bias=True)\n",
      "    (1): ReLU()\n",
      "    (2): Linear(in_features=512, out_features=512, bias=True)\n",
      "    (3): ReLU()\n",
      "    (4): Linear(in_features=512, out_features=10, bias=True)\n",
      "  )\n",
      ")\n"
     ]
    }
   ],
   "source": [
    "model = NeuralNetwork().to(device)\n",
    "print(model)"
   ]
  },
  {
   "cell_type": "code",
   "execution_count": 5,
   "id": "b4c21600",
   "metadata": {},
   "outputs": [
    {
     "name": "stdout",
     "output_type": "stream",
     "text": [
      "Predicted class: tensor([1], device='cuda:0')\n"
     ]
    }
   ],
   "source": [
    "#model.forward() 직접 호출 금지\n",
    "X = torch.rand(1, 28, 28, device=device)\n",
    "logits = model(X)\n",
    "pred_probab = nn.Softmax(dim=1)(logits)\n",
    "y_pred = pred_probab.argmax(1)\n",
    "print(f\"Predicted class: {y_pred}\")"
   ]
  },
  {
   "cell_type": "code",
   "execution_count": 7,
   "id": "3d88278b",
   "metadata": {},
   "outputs": [
    {
     "data": {
      "text/plain": [
       "tensor([[-0.0788,  0.1671,  0.0524, -0.0113,  0.0199, -0.0562,  0.0960,  0.0660,\n",
       "          0.0255,  0.0054]], device='cuda:0', grad_fn=<AddmmBackward0>)"
      ]
     },
     "execution_count": 7,
     "metadata": {},
     "output_type": "execute_result"
    }
   ],
   "source": [
    "logits"
   ]
  },
  {
   "cell_type": "markdown",
   "id": "4b70b223",
   "metadata": {},
   "source": [
    "#### 모델 계층(Layer)"
   ]
  },
  {
   "cell_type": "code",
   "execution_count": 8,
   "id": "15308856",
   "metadata": {},
   "outputs": [
    {
     "name": "stdout",
     "output_type": "stream",
     "text": [
      "torch.Size([3, 28, 28])\n"
     ]
    }
   ],
   "source": [
    "input_image = torch.rand(3,28,28)\n",
    "print(input_image.size())"
   ]
  },
  {
   "cell_type": "code",
   "execution_count": 9,
   "id": "9e387810",
   "metadata": {},
   "outputs": [
    {
     "name": "stdout",
     "output_type": "stream",
     "text": [
      "torch.Size([3, 784])\n"
     ]
    }
   ],
   "source": [
    "# nn.Flatten은 28*28의 이미지를 784 픽셀 값을 갖는 연속된 배열로 변환\n",
    "flatten = nn.Flatten()\n",
    "flat_image = flatten(input_image)\n",
    "print(flat_image.size())"
   ]
  },
  {
   "cell_type": "code",
   "execution_count": 11,
   "id": "2ca2e664",
   "metadata": {},
   "outputs": [
    {
     "name": "stdout",
     "output_type": "stream",
     "text": [
      "torch.Size([3, 20])\n"
     ]
    }
   ],
   "source": [
    "# nn.Linear는 저장된 가중치(weight)와 편향(bias)을 사용하여 입력에 선형 변환을 적용\n",
    "\n",
    "layer1 = nn.Linear(in_features=28*28, out_features=20)\n",
    "hidden1 = layer1(flat_image)\n",
    "print(hidden1.size())"
   ]
  },
  {
   "cell_type": "code",
   "execution_count": 12,
   "id": "277ccc9f",
   "metadata": {},
   "outputs": [
    {
     "name": "stdout",
     "output_type": "stream",
     "text": [
      "Before ReLU: tensor([[ 0.0214, -0.3986,  0.0609, -0.1529,  0.2353, -0.2836,  0.4913, -0.0514,\n",
      "         -0.4876, -0.1631,  0.1146,  0.0130,  0.2070,  0.1771, -0.7671, -0.1344,\n",
      "          0.0502,  0.0252, -0.5468, -0.1282],\n",
      "        [ 0.3795, -0.5888,  0.3152,  0.3003, -0.0328, -0.1454,  0.1661,  0.0736,\n",
      "         -1.1137, -0.5435, -0.2503, -0.0424,  0.0170, -0.2646, -0.5035,  0.0635,\n",
      "          0.4242, -0.2736, -0.5224, -0.1078],\n",
      "        [ 0.5152, -0.3874, -0.2086,  0.1430,  0.2237,  0.0337,  0.1974,  0.0710,\n",
      "         -0.8833, -0.5733, -0.3470,  0.2980,  0.1425,  0.0712, -0.5203,  0.0773,\n",
      "          0.6040,  0.0955, -0.6836, -0.0296]], grad_fn=<AddmmBackward0>)\n",
      "\n",
      "\n",
      "After ReLU: tensor([[0.0214, 0.0000, 0.0609, 0.0000, 0.2353, 0.0000, 0.4913, 0.0000, 0.0000,\n",
      "         0.0000, 0.1146, 0.0130, 0.2070, 0.1771, 0.0000, 0.0000, 0.0502, 0.0252,\n",
      "         0.0000, 0.0000],\n",
      "        [0.3795, 0.0000, 0.3152, 0.3003, 0.0000, 0.0000, 0.1661, 0.0736, 0.0000,\n",
      "         0.0000, 0.0000, 0.0000, 0.0170, 0.0000, 0.0000, 0.0635, 0.4242, 0.0000,\n",
      "         0.0000, 0.0000],\n",
      "        [0.5152, 0.0000, 0.0000, 0.1430, 0.2237, 0.0337, 0.1974, 0.0710, 0.0000,\n",
      "         0.0000, 0.0000, 0.2980, 0.1425, 0.0712, 0.0000, 0.0773, 0.6040, 0.0955,\n",
      "         0.0000, 0.0000]], grad_fn=<ReluBackward0>)\n"
     ]
    }
   ],
   "source": [
    "# 비선형 활성화 함수(acitivation function)는 모델의 입력과 출력 사이에 복잡한 관계를 만듦\n",
    "# 선형 변환 후에 적용되어 비선형성을 도입하고 신경망이 다양한 현상을 학습할 수 있도록 함\n",
    "print(f\"Before ReLU: {hidden1}\\n\\n\")\n",
    "hidden1 = nn.ReLU()(hidden1)\n",
    "print(f\"After ReLU: {hidden1}\")"
   ]
  },
  {
   "cell_type": "code",
   "execution_count": 13,
   "id": "9dc4c4af",
   "metadata": {},
   "outputs": [],
   "source": [
    "# nn.Sequential으 ㄴ순서를 갖는 모듈의 컨테이너\n",
    "# 정의된 것과 같은 순서로 모든 모듈들을 통해 전달됨\n",
    "\n",
    "seq_modules = nn.Sequential(\n",
    "    flatten,\n",
    "    layer1,\n",
    "    nn.ReLU(),\n",
    "    nn.Linear(20, 10)\n",
    ")\n",
    "input_image = torch.rand(3,28,28)\n",
    "logits = seq_modules(input_image)\n"
   ]
  },
  {
   "cell_type": "code",
   "execution_count": 17,
   "id": "71cf4f85",
   "metadata": {},
   "outputs": [
    {
     "name": "stdout",
     "output_type": "stream",
     "text": [
      "tensor([[0.0910, 0.1031, 0.1001, 0.0964, 0.1267, 0.1109, 0.0834, 0.1120, 0.0685,\n",
      "         0.1079],\n",
      "        [0.0912, 0.1022, 0.1000, 0.1012, 0.1272, 0.1207, 0.0783, 0.1094, 0.0708,\n",
      "         0.0990],\n",
      "        [0.0886, 0.0967, 0.1031, 0.1039, 0.1225, 0.1072, 0.0910, 0.1061, 0.0730,\n",
      "         0.1078]], grad_fn=<SoftmaxBackward0>)\n"
     ]
    }
   ],
   "source": [
    "# nn.SOftmax는 logit을 입력 받아 각 분류에 대한 예측 확률을 나타내도록 [0,1]범위로 scailing 됨\n",
    "\n",
    "softmax = nn.Softmax(dim=1)\n",
    "pred_probab = softmax(logits)\n",
    "print(pred_probab)"
   ]
  },
  {
   "cell_type": "code",
   "execution_count": 20,
   "id": "fc9dd940",
   "metadata": {},
   "outputs": [
    {
     "name": "stdout",
     "output_type": "stream",
     "text": [
      "Model structure: NeuralNetwork(\n",
      "  (flatten): Flatten(start_dim=1, end_dim=-1)\n",
      "  (linear_relu_stack): Sequential(\n",
      "    (0): Linear(in_features=784, out_features=512, bias=True)\n",
      "    (1): ReLU()\n",
      "    (2): Linear(in_features=512, out_features=512, bias=True)\n",
      "    (3): ReLU()\n",
      "    (4): Linear(in_features=512, out_features=10, bias=True)\n",
      "  )\n",
      ")\n",
      "\n",
      "\n",
      "Layer: linear_relu_stack.0.weight | Size: torch.Size([512, 784]) | Values : tensor([[ 1.5282e-02, -6.9778e-05,  1.2915e-02,  ..., -1.9614e-02,\n",
      "          2.4840e-02,  9.3934e-03],\n",
      "        [-2.9302e-02, -3.0603e-02, -3.5566e-02,  ...,  3.6606e-03,\n",
      "          1.9366e-02,  4.3152e-03]], device='cuda:0', grad_fn=<SliceBackward0>) \n",
      "\n",
      "Layer: linear_relu_stack.0.bias | Size: torch.Size([512]) | Values : tensor([-0.0257,  0.0059], device='cuda:0', grad_fn=<SliceBackward0>) \n",
      "\n",
      "Layer: linear_relu_stack.2.weight | Size: torch.Size([512, 512]) | Values : tensor([[ 0.0195, -0.0429,  0.0368,  ...,  0.0140, -0.0275, -0.0306],\n",
      "        [ 0.0075,  0.0161, -0.0396,  ..., -0.0161,  0.0268,  0.0364]],\n",
      "       device='cuda:0', grad_fn=<SliceBackward0>) \n",
      "\n",
      "Layer: linear_relu_stack.2.bias | Size: torch.Size([512]) | Values : tensor([-0.0061,  0.0072], device='cuda:0', grad_fn=<SliceBackward0>) \n",
      "\n",
      "Layer: linear_relu_stack.4.weight | Size: torch.Size([10, 512]) | Values : tensor([[-0.0361, -0.0295,  0.0408,  ..., -0.0301, -0.0343,  0.0088],\n",
      "        [-0.0215, -0.0381,  0.0110,  ...,  0.0228,  0.0034, -0.0053]],\n",
      "       device='cuda:0', grad_fn=<SliceBackward0>) \n",
      "\n",
      "Layer: linear_relu_stack.4.bias | Size: torch.Size([10]) | Values : tensor([-0.0398,  0.0088], device='cuda:0', grad_fn=<SliceBackward0>) \n",
      "\n"
     ]
    }
   ],
   "source": [
    "# 신경망 내부의 많은 계층들은 매개변수화(parameterize)됨\n",
    "# nn.Module을 상속하면 모델 객체 내부의 모든 필드들이 추적되며, parameters() 및 named_parameters() 메소드로 모든 매개변수에 접근 가능\n",
    "\n",
    "print(f\"Model structure: {model}\\n\\n\")\n",
    "\n",
    "for name, param in model.named_parameters():\n",
    "    print(f\"Layer: {name} | Size: {param.size()} | Values : {param[:2]} \\n\")"
   ]
  },
  {
   "cell_type": "code",
   "execution_count": null,
   "id": "35eef44a",
   "metadata": {},
   "outputs": [],
   "source": []
  }
 ],
 "metadata": {
  "kernelspec": {
   "display_name": "Python 3 (ipykernel)",
   "language": "python",
   "name": "python3"
  },
  "language_info": {
   "codemirror_mode": {
    "name": "ipython",
    "version": 3
   },
   "file_extension": ".py",
   "mimetype": "text/x-python",
   "name": "python",
   "nbconvert_exporter": "python",
   "pygments_lexer": "ipython3",
   "version": "3.9.7"
  }
 },
 "nbformat": 4,
 "nbformat_minor": 5
}
